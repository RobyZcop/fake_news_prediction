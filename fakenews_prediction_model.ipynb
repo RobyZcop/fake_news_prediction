{
 "cells": [
  {
   "cell_type": "markdown",
   "id": "4fd1fc85",
   "metadata": {},
   "source": [
    "# Data Provisioning Phase(2)"
   ]
  },
  {
   "cell_type": "markdown",
   "id": "10680478",
   "metadata": {},
   "source": [
    "## Data collection"
   ]
  },
  {
   "cell_type": "code",
   "execution_count": 11,
   "id": "1eedf69f",
   "metadata": {
    "scrolled": true
   },
   "outputs": [],
   "source": [
    "#importing libreries we need \n",
    "import sklearn\n",
    "import pandas as pd\n",
    "import matplotlib.pyplot as plt\n",
    "import numpy as np\n",
    "\n",
    "pd.set_option(\"max_colwidth\", 200)\n",
    "random_state = 42"
   ]
  },
  {
   "cell_type": "markdown",
   "id": "7d0d9f54",
   "metadata": {},
   "source": [
    "I am importing two differents dataSet one with the True news, and another one with the fake news.\n",
    "\n",
    "- The sources of the TRUE NEWS :Reuters, the New York Times, the Washington Post and more\n",
    "\n",
    "- The sources of the FAKE NEWS:\n",
    " 1) American right wing extremist websites (such as Redflag Newsdesk, Beitbart, Truth Broadcast Network)\n",
    " \n",
    " 2) A previously made public dataset described in the following article:\n",
    "    Ahmed H, Traore I, Saad S. (2017) “Detection of Online Fake News Using N-Gram Analysis and Machine Learning Techniques. In: Traore I., Woungang I., Awad A. (eds) Intelligent, Secure, and Dependable Systems in Distributed and Cloud Environments. ISDDC 2017. Lecture Notes in Computer Science, vol 10618. Springer, Cham (pp. 127-138).\n",
    "    \n",
    "3) Disinformation and propaganda cases collected by the EUvsDisinfo project. A project started in 2015 that identifies and fact checks disinformation cases originating from pro-Kremlin media that are spread across the EU."
   ]
  },
  {
   "cell_type": "code",
   "execution_count": 12,
   "id": "557802d8",
   "metadata": {},
   "outputs": [],
   "source": [
    "# importing dataset with True news\n",
    "df_true = pd.read_csv('DataSet_Misinfo_TRUE.csv')\n"
   ]
  },
  {
   "cell_type": "code",
   "execution_count": 13,
   "id": "cf3e0f74",
   "metadata": {},
   "outputs": [],
   "source": [
    "# importing dataset with Fake news\n",
    "df_fake = pd.read_csv('DataSet_Misinfo_FAKE.csv')"
   ]
  },
  {
   "cell_type": "markdown",
   "id": "5e9546c3",
   "metadata": {},
   "source": [
    "## Data Preparation"
   ]
  },
  {
   "cell_type": "markdown",
   "id": "55a90aaa",
   "metadata": {},
   "source": [
    "Creating new column tha provide 1 = <b>TRUE</b> in order to prepare the data for the model and removing unnecessary column\n"
   ]
  },
  {
   "cell_type": "code",
   "execution_count": 14,
   "id": "d621a8cf",
   "metadata": {},
   "outputs": [
    {
     "data": {
      "text/html": [
       "<div>\n",
       "<style scoped>\n",
       "    .dataframe tbody tr th:only-of-type {\n",
       "        vertical-align: middle;\n",
       "    }\n",
       "\n",
       "    .dataframe tbody tr th {\n",
       "        vertical-align: top;\n",
       "    }\n",
       "\n",
       "    .dataframe thead th {\n",
       "        text-align: right;\n",
       "    }\n",
       "</style>\n",
       "<table border=\"1\" class=\"dataframe\">\n",
       "  <thead>\n",
       "    <tr style=\"text-align: right;\">\n",
       "      <th></th>\n",
       "      <th>text</th>\n",
       "      <th>label</th>\n",
       "    </tr>\n",
       "  </thead>\n",
       "  <tbody>\n",
       "    <tr>\n",
       "      <th>0</th>\n",
       "      <td>The head of a conservative Republican faction in the U.S. Congress, who voted this month for a huge expansion of the national debt to pay for tax cuts, called himself a “fiscal conservative” on Su...</td>\n",
       "      <td>1</td>\n",
       "    </tr>\n",
       "    <tr>\n",
       "      <th>1</th>\n",
       "      <td>Transgender people will be allowed for the first time to enlist in the U.S. military starting on Monday as ordered by federal courts, the Pentagon said on Friday, after President Donald Trump’s ad...</td>\n",
       "      <td>1</td>\n",
       "    </tr>\n",
       "    <tr>\n",
       "      <th>2</th>\n",
       "      <td>The special counsel investigation of links between Russia and President Trump’s 2016 election campaign should continue without interference in 2018, despite calls from some Trump administration al...</td>\n",
       "      <td>1</td>\n",
       "    </tr>\n",
       "    <tr>\n",
       "      <th>3</th>\n",
       "      <td>Trump campaign adviser George Papadopoulos told an Australian diplomat in May 2016 that Russia had political dirt on Democratic presidential candidate Hillary Clinton, the New York Times reported ...</td>\n",
       "      <td>1</td>\n",
       "    </tr>\n",
       "    <tr>\n",
       "      <th>4</th>\n",
       "      <td>President Donald Trump called on the U.S. Postal Service on Friday to charge “much more” to ship packages for Amazon (AMZN.O), picking another fight with an online retail giant he has criticized i...</td>\n",
       "      <td>1</td>\n",
       "    </tr>\n",
       "  </tbody>\n",
       "</table>\n",
       "</div>"
      ],
      "text/plain": [
       "                                                                                                                                                                                                      text  \\\n",
       "0  The head of a conservative Republican faction in the U.S. Congress, who voted this month for a huge expansion of the national debt to pay for tax cuts, called himself a “fiscal conservative” on Su...   \n",
       "1  Transgender people will be allowed for the first time to enlist in the U.S. military starting on Monday as ordered by federal courts, the Pentagon said on Friday, after President Donald Trump’s ad...   \n",
       "2  The special counsel investigation of links between Russia and President Trump’s 2016 election campaign should continue without interference in 2018, despite calls from some Trump administration al...   \n",
       "3  Trump campaign adviser George Papadopoulos told an Australian diplomat in May 2016 that Russia had political dirt on Democratic presidential candidate Hillary Clinton, the New York Times reported ...   \n",
       "4  President Donald Trump called on the U.S. Postal Service on Friday to charge “much more” to ship packages for Amazon (AMZN.O), picking another fight with an online retail giant he has criticized i...   \n",
       "\n",
       "   label  \n",
       "0      1  \n",
       "1      1  \n",
       "2      1  \n",
       "3      1  \n",
       "4      1  "
      ]
     },
     "execution_count": 14,
     "metadata": {},
     "output_type": "execute_result"
    }
   ],
   "source": [
    "df_true['label']=1\n",
    "df_true=df_true.drop('Unnamed: 0',axis=1)\n",
    "df_true.head()"
   ]
  },
  {
   "cell_type": "markdown",
   "id": "ede7a6b6",
   "metadata": {},
   "source": [
    "Creating new column tha provide 0 = <b>FALSE</b> in order to prepare the data for the model and removing unnecessary column"
   ]
  },
  {
   "cell_type": "code",
   "execution_count": 15,
   "id": "96176818",
   "metadata": {},
   "outputs": [
    {
     "data": {
      "text/html": [
       "<div>\n",
       "<style scoped>\n",
       "    .dataframe tbody tr th:only-of-type {\n",
       "        vertical-align: middle;\n",
       "    }\n",
       "\n",
       "    .dataframe tbody tr th {\n",
       "        vertical-align: top;\n",
       "    }\n",
       "\n",
       "    .dataframe thead th {\n",
       "        text-align: right;\n",
       "    }\n",
       "</style>\n",
       "<table border=\"1\" class=\"dataframe\">\n",
       "  <thead>\n",
       "    <tr style=\"text-align: right;\">\n",
       "      <th></th>\n",
       "      <th>text</th>\n",
       "      <th>label</th>\n",
       "    </tr>\n",
       "  </thead>\n",
       "  <tbody>\n",
       "    <tr>\n",
       "      <th>0</th>\n",
       "      <td>Donald Trump just couldn t wish all Americans a Happy New Year and leave it at that. Instead, he had to give a shout out to his enemies, haters and  the very dishonest fake news media.  The former...</td>\n",
       "      <td>0</td>\n",
       "    </tr>\n",
       "    <tr>\n",
       "      <th>1</th>\n",
       "      <td>House Intelligence Committee Chairman Devin Nunes is going to have a bad day. He s been under the assumption, like many of us, that the Christopher Steele-dossier was what prompted the Russia inve...</td>\n",
       "      <td>0</td>\n",
       "    </tr>\n",
       "    <tr>\n",
       "      <th>2</th>\n",
       "      <td>On Friday, it was revealed that former Milwaukee Sheriff David Clarke, who was being considered for Homeland Security Secretary in Donald Trump s administration, has an email scandal of his own.In...</td>\n",
       "      <td>0</td>\n",
       "    </tr>\n",
       "    <tr>\n",
       "      <th>3</th>\n",
       "      <td>On Christmas day, Donald Trump announced that he would  be back to work  the following day, but he is golfing for the fourth day in a row. The former reality show star blasted former President Bar...</td>\n",
       "      <td>0</td>\n",
       "    </tr>\n",
       "    <tr>\n",
       "      <th>4</th>\n",
       "      <td>Pope Francis used his annual Christmas Day message to rebuke Donald Trump without even mentioning his name. The Pope delivered his message just days after members of the United Nations condemned T...</td>\n",
       "      <td>0</td>\n",
       "    </tr>\n",
       "  </tbody>\n",
       "</table>\n",
       "</div>"
      ],
      "text/plain": [
       "                                                                                                                                                                                                      text  \\\n",
       "0  Donald Trump just couldn t wish all Americans a Happy New Year and leave it at that. Instead, he had to give a shout out to his enemies, haters and  the very dishonest fake news media.  The former...   \n",
       "1  House Intelligence Committee Chairman Devin Nunes is going to have a bad day. He s been under the assumption, like many of us, that the Christopher Steele-dossier was what prompted the Russia inve...   \n",
       "2  On Friday, it was revealed that former Milwaukee Sheriff David Clarke, who was being considered for Homeland Security Secretary in Donald Trump s administration, has an email scandal of his own.In...   \n",
       "3  On Christmas day, Donald Trump announced that he would  be back to work  the following day, but he is golfing for the fourth day in a row. The former reality show star blasted former President Bar...   \n",
       "4  Pope Francis used his annual Christmas Day message to rebuke Donald Trump without even mentioning his name. The Pope delivered his message just days after members of the United Nations condemned T...   \n",
       "\n",
       "   label  \n",
       "0      0  \n",
       "1      0  \n",
       "2      0  \n",
       "3      0  \n",
       "4      0  "
      ]
     },
     "execution_count": 15,
     "metadata": {},
     "output_type": "execute_result"
    }
   ],
   "source": [
    "# same logic as above but this time 0 = fake \n",
    "\n",
    "df_fake['label']=0\n",
    "df_fake=df_fake.drop('Unnamed: 0',axis=1)\n",
    "df_fake.head()"
   ]
  },
  {
   "cell_type": "code",
   "execution_count": 21,
   "id": "2604d057",
   "metadata": {},
   "outputs": [
    {
     "data": {
      "image/png": "[encoded data removed]",
      "text/plain": [
       "<Figure size 640x480 with 1 Axes>"
      ]
     },
     "metadata": {},
     "output_type": "display_data"
    },
    {
     "data": {
      "text/plain": [
       "<AxesSubplot:xlabel='Samples', ylabel='Counts'>"
      ]
     },
     "execution_count": 21,
     "metadata": {},
     "output_type": "execute_result"
    }
   ],
   "source": [
    "import enchant\n",
    "import nltk\n",
    "from nltk.tokenize import word_tokenize\n",
    "\n",
    "# initialize the dictionary for spell checking\n",
    "english_dict = enchant.Dict(\"en_US\")\n",
    "\n",
    "# take a random sample of 20 rows from dfFull\n",
    "df_sample_prep = dfFull.sample(n=20, random_state=42)\n",
    "\n",
    "# tokenize the text data\n",
    "df_sample_prep['text_tokens'] = df_sample_prep['text'].apply(lambda x: word_tokenize(x))\n",
    "\n",
    "# identify misspelled words\n",
    "misspelled_words = []\n",
    "for tokens in df_sample_prep['text_tokens']:\n",
    "    for word in tokens:\n",
    "        if not english_dict.check(word):\n",
    "            misspelled_words.append(word)\n",
    "\n",
    "# count the frequency of each misspelled word\n",
    "freq_dist = nltk.FreqDist(misspelled_words)\n",
    "\n",
    "# plot the most common misspelled words\n",
    "freq_dist.plot(20, cumulative=False)\n"
   ]
  },
  {
   "cell_type": "markdown",
   "id": "e3d18b21",
   "metadata": {},
   "source": [
    "This code identify misspelled word in the \"text\" column, it use a library to check if each word in the text is present in the english dictionary, if it is not there is consider misspelled. It is important to spot mispelled words, because they can negatively impact the accuracy of the model. "
   ]
  },
  {
   "cell_type": "markdown",
   "id": "84386e3e",
   "metadata": {},
   "source": [
    "## Data understanding"
   ]
  },
  {
   "cell_type": "markdown",
   "id": "1ecd7821",
   "metadata": {},
   "source": [
    "After I have provide the label 1 0 to both dataSet I join them with the results of one single merged dataset. And then display information about the datSet. We can notice that true news has more observation (29), so first thing to do is checking for missing values, because maybe that 29 more observation are missing values."
   ]
  },
  {
   "cell_type": "code",
   "execution_count": 22,
   "id": "08659068",
   "metadata": {},
   "outputs": [
    {
     "name": "stdout",
     "output_type": "stream",
     "text": [
      "<class 'pandas.core.frame.DataFrame'>\n",
      "Int64Index: 78617 entries, 0 to 43641\n",
      "Data columns (total 2 columns):\n",
      " #   Column  Non-Null Count  Dtype \n",
      "---  ------  --------------  ----- \n",
      " 0   text    78588 non-null  object\n",
      " 1   label   78617 non-null  int64 \n",
      "dtypes: int64(1), object(1)\n",
      "memory usage: 1.8+ MB\n"
     ]
    }
   ],
   "source": [
    "dfFull = pd.concat([df_true,df_fake])\n",
    "dfFull.info()"
   ]
  },
  {
   "cell_type": "markdown",
   "id": "499b51ed",
   "metadata": {},
   "source": [
    "## Show rows with missing data"
   ]
  },
  {
   "cell_type": "code",
   "execution_count": 23,
   "id": "bff18447",
   "metadata": {},
   "outputs": [
    {
     "data": {
      "text/html": [
       "<div>\n",
       "<style scoped>\n",
       "    .dataframe tbody tr th:only-of-type {\n",
       "        vertical-align: middle;\n",
       "    }\n",
       "\n",
       "    .dataframe tbody tr th {\n",
       "        vertical-align: top;\n",
       "    }\n",
       "\n",
       "    .dataframe thead th {\n",
       "        text-align: right;\n",
       "    }\n",
       "</style>\n",
       "<table border=\"1\" class=\"dataframe\">\n",
       "  <thead>\n",
       "    <tr style=\"text-align: right;\">\n",
       "      <th></th>\n",
       "      <th>text</th>\n",
       "      <th>label</th>\n",
       "    </tr>\n",
       "  </thead>\n",
       "  <tbody>\n",
       "    <tr>\n",
       "      <th>2922</th>\n",
       "      <td>NaN</td>\n",
       "      <td>1</td>\n",
       "    </tr>\n",
       "    <tr>\n",
       "      <th>3488</th>\n",
       "      <td>NaN</td>\n",
       "      <td>1</td>\n",
       "    </tr>\n",
       "    <tr>\n",
       "      <th>3782</th>\n",
       "      <td>NaN</td>\n",
       "      <td>1</td>\n",
       "    </tr>\n",
       "    <tr>\n",
       "      <th>4358</th>\n",
       "      <td>NaN</td>\n",
       "      <td>1</td>\n",
       "    </tr>\n",
       "    <tr>\n",
       "      <th>4465</th>\n",
       "      <td>NaN</td>\n",
       "      <td>1</td>\n",
       "    </tr>\n",
       "    <tr>\n",
       "      <th>5290</th>\n",
       "      <td>NaN</td>\n",
       "      <td>1</td>\n",
       "    </tr>\n",
       "    <tr>\n",
       "      <th>5588</th>\n",
       "      <td>NaN</td>\n",
       "      <td>1</td>\n",
       "    </tr>\n",
       "    <tr>\n",
       "      <th>5761</th>\n",
       "      <td>NaN</td>\n",
       "      <td>1</td>\n",
       "    </tr>\n",
       "    <tr>\n",
       "      <th>5784</th>\n",
       "      <td>NaN</td>\n",
       "      <td>1</td>\n",
       "    </tr>\n",
       "    <tr>\n",
       "      <th>6026</th>\n",
       "      <td>NaN</td>\n",
       "      <td>1</td>\n",
       "    </tr>\n",
       "    <tr>\n",
       "      <th>6184</th>\n",
       "      <td>NaN</td>\n",
       "      <td>1</td>\n",
       "    </tr>\n",
       "    <tr>\n",
       "      <th>6660</th>\n",
       "      <td>NaN</td>\n",
       "      <td>1</td>\n",
       "    </tr>\n",
       "    <tr>\n",
       "      <th>6823</th>\n",
       "      <td>NaN</td>\n",
       "      <td>1</td>\n",
       "    </tr>\n",
       "    <tr>\n",
       "      <th>7922</th>\n",
       "      <td>NaN</td>\n",
       "      <td>1</td>\n",
       "    </tr>\n",
       "    <tr>\n",
       "      <th>8194</th>\n",
       "      <td>NaN</td>\n",
       "      <td>1</td>\n",
       "    </tr>\n",
       "    <tr>\n",
       "      <th>8195</th>\n",
       "      <td>NaN</td>\n",
       "      <td>1</td>\n",
       "    </tr>\n",
       "    <tr>\n",
       "      <th>8247</th>\n",
       "      <td>NaN</td>\n",
       "      <td>1</td>\n",
       "    </tr>\n",
       "    <tr>\n",
       "      <th>8465</th>\n",
       "      <td>NaN</td>\n",
       "      <td>1</td>\n",
       "    </tr>\n",
       "    <tr>\n",
       "      <th>8481</th>\n",
       "      <td>NaN</td>\n",
       "      <td>1</td>\n",
       "    </tr>\n",
       "    <tr>\n",
       "      <th>8482</th>\n",
       "      <td>NaN</td>\n",
       "      <td>1</td>\n",
       "    </tr>\n",
       "    <tr>\n",
       "      <th>8505</th>\n",
       "      <td>NaN</td>\n",
       "      <td>1</td>\n",
       "    </tr>\n",
       "    <tr>\n",
       "      <th>8506</th>\n",
       "      <td>NaN</td>\n",
       "      <td>1</td>\n",
       "    </tr>\n",
       "    <tr>\n",
       "      <th>8771</th>\n",
       "      <td>NaN</td>\n",
       "      <td>1</td>\n",
       "    </tr>\n",
       "    <tr>\n",
       "      <th>8970</th>\n",
       "      <td>NaN</td>\n",
       "      <td>1</td>\n",
       "    </tr>\n",
       "    <tr>\n",
       "      <th>9008</th>\n",
       "      <td>NaN</td>\n",
       "      <td>1</td>\n",
       "    </tr>\n",
       "    <tr>\n",
       "      <th>9009</th>\n",
       "      <td>NaN</td>\n",
       "      <td>1</td>\n",
       "    </tr>\n",
       "    <tr>\n",
       "      <th>9307</th>\n",
       "      <td>NaN</td>\n",
       "      <td>1</td>\n",
       "    </tr>\n",
       "    <tr>\n",
       "      <th>9618</th>\n",
       "      <td>NaN</td>\n",
       "      <td>1</td>\n",
       "    </tr>\n",
       "    <tr>\n",
       "      <th>9737</th>\n",
       "      <td>NaN</td>\n",
       "      <td>1</td>\n",
       "    </tr>\n",
       "  </tbody>\n",
       "</table>\n",
       "</div>"
      ],
      "text/plain": [
       "     text  label\n",
       "2922  NaN      1\n",
       "3488  NaN      1\n",
       "3782  NaN      1\n",
       "4358  NaN      1\n",
       "4465  NaN      1\n",
       "5290  NaN      1\n",
       "5588  NaN      1\n",
       "5761  NaN      1\n",
       "5784  NaN      1\n",
       "6026  NaN      1\n",
       "6184  NaN      1\n",
       "6660  NaN      1\n",
       "6823  NaN      1\n",
       "7922  NaN      1\n",
       "8194  NaN      1\n",
       "8195  NaN      1\n",
       "8247  NaN      1\n",
       "8465  NaN      1\n",
       "8481  NaN      1\n",
       "8482  NaN      1\n",
       "8505  NaN      1\n",
       "8506  NaN      1\n",
       "8771  NaN      1\n",
       "8970  NaN      1\n",
       "9008  NaN      1\n",
       "9009  NaN      1\n",
       "9307  NaN      1\n",
       "9618  NaN      1\n",
       "9737  NaN      1"
      ]
     },
     "execution_count": 23,
     "metadata": {},
     "output_type": "execute_result"
    }
   ],
   "source": [
    "df_missing = dfFull[dfFull.isnull().any(axis=1)]\n",
    "\n",
    "df_missing"
   ]
  },
  {
   "cell_type": "markdown",
   "id": "3fe23529",
   "metadata": {},
   "source": [
    "These are the only missing values present, the reasons can be many, the most plausible in my opinion is human error during the manipulation of the dataset for the TRUE news, evidently, somehow, the texts have been lost, Consequently, the best thing to do and simply remove all 29 rows, as compared to the total number of observations in the database it is a very small number"
   ]
  },
  {
   "cell_type": "markdown",
   "id": "de3a10f0",
   "metadata": {},
   "source": [
    "Spotting missing values in both dataSet in order to tackle them, and see if that 29 more rows are 29 missing values."
   ]
  },
  {
   "cell_type": "code",
   "execution_count": 24,
   "id": "9fda2e37",
   "metadata": {},
   "outputs": [
    {
     "data": {
      "image/png": "[encoded data removed]",
      "text/plain": [
       "<Figure size 1000x600 with 1 Axes>"
      ]
     },
     "metadata": {},
     "output_type": "display_data"
    }
   ],
   "source": [
    "import matplotlib.pyplot as plt\n",
    "\n",
    "# count missing values in df_true dataframe\n",
    "true_missing_values = df_true.isnull().sum()\n",
    "\n",
    "# count missing values in df_fake dataframe\n",
    "fake_missing_values = df_fake.isnull().sum()\n",
    "\n",
    "# combine the two counts into a single dataframe\n",
    "missing_values_df = pd.concat([true_missing_values, fake_missing_values], axis=1, keys=['True News', 'Fake News'])\n",
    "\n",
    "# plot the bar chart\n",
    "missing_values_df.plot(kind='bar', figsize=(10, 6))\n",
    "\n",
    "# add chart titles and labels\n",
    "plt.title('Missing Values by Column', fontsize=16)\n",
    "plt.xlabel('Column Name', fontsize=14)\n",
    "plt.ylabel('Count of Missing Values', fontsize=14)\n",
    "\n",
    "# show the chart\n",
    "plt.show()\n",
    "\n"
   ]
  },
  {
   "cell_type": "markdown",
   "id": "795e5bd0",
   "metadata": {},
   "source": [
    "As we can see true news are 29 missing values, which corresponding to our guess, so the best thing to do is eliminating them, so we have same numbers of columns for both fake and true and we eliminate the null values that we do not need at all, is a small number compare of the total non-null values (way more less than 1%) that we have, so does not need to be tackled in differents way. Elimating the rows is the fastest and best thing to do."
   ]
  },
  {
   "cell_type": "code",
   "execution_count": 25,
   "id": "b6d47638",
   "metadata": {},
   "outputs": [
    {
     "data": {
      "text/plain": [
       "<AxesSubplot:xlabel='label', ylabel='count'>"
      ]
     },
     "execution_count": 25,
     "metadata": {},
     "output_type": "execute_result"
    },
    {
     "data": {
      "image/png": "[encoded data removed]",
      "text/plain": [
       "<Figure size 640x480 with 1 Axes>"
      ]
     },
     "metadata": {},
     "output_type": "display_data"
    }
   ],
   "source": [
    "import seaborn as sns\n",
    "\n",
    "# create a countplot of the target variable before dropping missing values\n",
    "sns.countplot(x='label', data=dfFull)\n",
    "\n"
   ]
  },
  {
   "cell_type": "code",
   "execution_count": 26,
   "id": "0d9e197d",
   "metadata": {},
   "outputs": [
    {
     "data": {
      "text/plain": [
       "<AxesSubplot:xlabel='label', ylabel='count'>"
      ]
     },
     "execution_count": 26,
     "metadata": {},
     "output_type": "execute_result"
    },
    {
     "data": {
      "image/png": "[encoded data removed]",
      "text/plain": [
       "<Figure size 640x480 with 1 Axes>"
      ]
     },
     "metadata": {},
     "output_type": "display_data"
    }
   ],
   "source": [
    "# drop rows with missing values\n",
    "dfFull = dfFull.dropna(how='any')\n",
    "\n",
    "# create a countplot of the target variable after dropping missing values\n",
    "sns.countplot(x='label', data=dfFull)"
   ]
  },
  {
   "cell_type": "markdown",
   "id": "a8c528b1",
   "metadata": {},
   "source": [
    "The above bar graph shows that the missing values were just in the colum text. But the graph shows an interesting thing: the target variable has more values of False news, still this is not will cause bias in the model, because the differences is not that high. So the dataset is balance"
   ]
  },
  {
   "cell_type": "code",
   "execution_count": 27,
   "id": "c6b982b2",
   "metadata": {},
   "outputs": [
    {
     "name": "stdout",
     "output_type": "stream",
     "text": [
      "<class 'pandas.core.frame.DataFrame'>\n",
      "Int64Index: 78588 entries, 0 to 43641\n",
      "Data columns (total 2 columns):\n",
      " #   Column  Non-Null Count  Dtype \n",
      "---  ------  --------------  ----- \n",
      " 0   text    78588 non-null  object\n",
      " 1   label   78588 non-null  int64 \n",
      "dtypes: int64(1), object(1)\n",
      "memory usage: 1.8+ MB\n"
     ]
    }
   ],
   "source": [
    "dfFull.info()\n"
   ]
  },
  {
   "cell_type": "markdown",
   "id": "4fa64959",
   "metadata": {},
   "source": [
    "We sucessfully eliminating the null values and as is shown in the df.info(), we have the same numbers for both 0 and 1 (fake and true)"
   ]
  },
  {
   "cell_type": "code",
   "execution_count": 28,
   "id": "6f7e11e2",
   "metadata": {
    "scrolled": false
   },
   "outputs": [
    {
     "data": {
      "text/html": [
       "<div>\n",
       "<style scoped>\n",
       "    .dataframe tbody tr th:only-of-type {\n",
       "        vertical-align: middle;\n",
       "    }\n",
       "\n",
       "    .dataframe tbody tr th {\n",
       "        vertical-align: top;\n",
       "    }\n",
       "\n",
       "    .dataframe thead th {\n",
       "        text-align: right;\n",
       "    }\n",
       "</style>\n",
       "<table border=\"1\" class=\"dataframe\">\n",
       "  <thead>\n",
       "    <tr style=\"text-align: right;\">\n",
       "      <th></th>\n",
       "      <th>text</th>\n",
       "      <th>label</th>\n",
       "    </tr>\n",
       "  </thead>\n",
       "  <tbody>\n",
       "    <tr>\n",
       "      <th>25513</th>\n",
       "      <td>November 1, 2016 Half of Russians fear Syria could spark World War III \\nNearly half of Russians fear that Moscow’s bombing campaign in Syria could spark World War III, a poll showed Monday. \\nMos...</td>\n",
       "      <td>0</td>\n",
       "    </tr>\n",
       "    <tr>\n",
       "      <th>38428</th>\n",
       "      <td>Sodomy takes one Western country after another. West wants to bring sodomy to Belarus through Polish Catholic priests as local priests do not want to promote alien interests. Polish Catholic pries...</td>\n",
       "      <td>0</td>\n",
       "    </tr>\n",
       "    <tr>\n",
       "      <th>25926</th>\n",
       "      <td>BUSTED: Clinton Foundation Directly Tied To Plot To Steal Election Posted on October 27, 2016 by Prissy Holly in Politics Share This \\nEver since early voting began, numerous reports are claiming ...</td>\n",
       "      <td>0</td>\n",
       "    </tr>\n",
       "    <tr>\n",
       "      <th>27120</th>\n",
       "      <td>LONDON  —   A    Romanian architect who plunged into the River Thames when a terrorist plowed  a vehicle into pedestrians in London became the fifth victim to die as a result of the attack last mo...</td>\n",
       "      <td>1</td>\n",
       "    </tr>\n",
       "    <tr>\n",
       "      <th>6569</th>\n",
       "      <td>Top Montana Democratic and Republican lawmakers on Tuesday warned neo-Nazis they would find “no safe haven” for a rally that could include guns planned for next month in a mountain town where whit...</td>\n",
       "      <td>1</td>\n",
       "    </tr>\n",
       "    <tr>\n",
       "      <th>37785</th>\n",
       "      <td>In addition to the 4 oligarchs in Ukraine, there is also a fifth - US Special Representative Kurt Volker, who does what he wants, and who actually rules the country.</td>\n",
       "      <td>0</td>\n",
       "    </tr>\n",
       "    <tr>\n",
       "      <th>26474</th>\n",
       "      <td>Treasury, Bank of England and IMF Brexit forecasts proved wrong Published: October 29, 2016 Source: Express UK \\nTHE Treasury, Bank of England and International Monetary Fund (IMF) are among the s...</td>\n",
       "      <td>0</td>\n",
       "    </tr>\n",
       "    <tr>\n",
       "      <th>2199</th>\n",
       "      <td>With U.S. Congress members focused during their August recess on finding ways to lower the corporate tax rate, industry groups and other sectors of society are gearing up to fight proposed changes...</td>\n",
       "      <td>1</td>\n",
       "    </tr>\n",
       "    <tr>\n",
       "      <th>839</th>\n",
       "      <td>North Korea called on Friday for a halt to what it called “brutal sanctions”, saying the measures</td>\n",
       "      <td>1</td>\n",
       "    </tr>\n",
       "    <tr>\n",
       "      <th>38657</th>\n",
       "      <td>Ukraine adopted a new law that will allow it to detain all Russian vessels in the Black Sea and to shoot on sight.</td>\n",
       "      <td>0</td>\n",
       "    </tr>\n",
       "  </tbody>\n",
       "</table>\n",
       "</div>"
      ],
      "text/plain": [
       "                                                                                                                                                                                                          text  \\\n",
       "25513  November 1, 2016 Half of Russians fear Syria could spark World War III \\nNearly half of Russians fear that Moscow’s bombing campaign in Syria could spark World War III, a poll showed Monday. \\nMos...   \n",
       "38428  Sodomy takes one Western country after another. West wants to bring sodomy to Belarus through Polish Catholic priests as local priests do not want to promote alien interests. Polish Catholic pries...   \n",
       "25926  BUSTED: Clinton Foundation Directly Tied To Plot To Steal Election Posted on October 27, 2016 by Prissy Holly in Politics Share This \\nEver since early voting began, numerous reports are claiming ...   \n",
       "27120  LONDON  —   A    Romanian architect who plunged into the River Thames when a terrorist plowed  a vehicle into pedestrians in London became the fifth victim to die as a result of the attack last mo...   \n",
       "6569   Top Montana Democratic and Republican lawmakers on Tuesday warned neo-Nazis they would find “no safe haven” for a rally that could include guns planned for next month in a mountain town where whit...   \n",
       "37785                                    In addition to the 4 oligarchs in Ukraine, there is also a fifth - US Special Representative Kurt Volker, who does what he wants, and who actually rules the country.   \n",
       "26474  Treasury, Bank of England and IMF Brexit forecasts proved wrong Published: October 29, 2016 Source: Express UK \\nTHE Treasury, Bank of England and International Monetary Fund (IMF) are among the s...   \n",
       "2199   With U.S. Congress members focused during their August recess on finding ways to lower the corporate tax rate, industry groups and other sectors of society are gearing up to fight proposed changes...   \n",
       "839                                                                                                          North Korea called on Friday for a halt to what it called “brutal sanctions”, saying the measures   \n",
       "38657                                                                                       Ukraine adopted a new law that will allow it to detain all Russian vessels in the Black Sea and to shoot on sight.   \n",
       "\n",
       "       label  \n",
       "25513      0  \n",
       "38428      0  \n",
       "25926      0  \n",
       "27120      1  \n",
       "6569       1  \n",
       "37785      0  \n",
       "26474      0  \n",
       "2199       1  \n",
       "839        1  \n",
       "38657      0  "
      ]
     },
     "execution_count": 28,
     "metadata": {},
     "output_type": "execute_result"
    }
   ],
   "source": [
    "dfFull.sample(10)"
   ]
  },
  {
   "cell_type": "code",
   "execution_count": 29,
   "id": "821d8ffb",
   "metadata": {},
   "outputs": [
    {
     "name": "stdout",
     "output_type": "stream",
     "text": [
      "text     object\n",
      "label     int64\n",
      "dtype: object\n"
     ]
    },
    {
     "data": {
      "text/plain": [
       "<AxesSubplot:ylabel='count'>"
      ]
     },
     "execution_count": 29,
     "metadata": {},
     "output_type": "execute_result"
    },
    {
     "data": {
      "image/png": "[encoded data removed]",
      "text/plain": [
       "<Figure size 640x480 with 1 Axes>"
      ]
     },
     "metadata": {},
     "output_type": "display_data"
    }
   ],
   "source": [
    "\n",
    "# check the data type of each column\n",
    "print(dfFull.dtypes)\n",
    "\n",
    "# visualize the data types using a countplot\n",
    "sns.countplot(x=dfFull.dtypes)"
   ]
  },
  {
   "cell_type": "markdown",
   "id": "3a41daa1",
   "metadata": {},
   "source": [
    "Here we are counting each dataType how many times appear. Clearly the datatype int64 will appear twice as much compare to object because we have the label column and the text_length (which count the length of the text). In general we can infer that we have a balance between the datatypes. If we remove the length of the text, we will have 1 for object and 1 for int64, which will make sense because for each text we have the relative label "
   ]
  },
  {
   "cell_type": "markdown",
   "id": "8cf41eba",
   "metadata": {},
   "source": [
    "We show a sample of the final dataframe before proceding with further steps"
   ]
  },
  {
   "cell_type": "code",
   "execution_count": 30,
   "id": "6ce4fbff",
   "metadata": {},
   "outputs": [
    {
     "name": "stdout",
     "output_type": "stream",
     "text": [
      "Dataset size:\n",
      "Number of rows: 78588\n",
      "Number of columns: 2\n",
      "\n",
      "Distribution of labels:\n",
      "Fake news count: 43642\n",
      "Non-fake news count: 34946\n"
     ]
    },
    {
     "data": {
      "image/png": "[encoded data removed]",
      "text/plain": [
       "<Figure size 640x480 with 1 Axes>"
      ]
     },
     "metadata": {},
     "output_type": "display_data"
    }
   ],
   "source": [
    "# Examine the size of the dataset\n",
    "print(\"Dataset size:\")\n",
    "print(\"Number of rows:\", dfFull.shape[0])\n",
    "print(\"Number of columns:\", dfFull.shape[1])\n",
    "\n",
    "\n",
    "# Examine the distribution of fake news and non-fake news articles\n",
    "fake_news_count = (dfFull['label'] == 0).sum()\n",
    "non_fake_news_count = (dfFull['label'] == 1).sum()\n",
    "\n",
    "print(\"\\nDistribution of labels:\")\n",
    "print(\"Fake news count:\", fake_news_count)\n",
    "print(\"Non-fake news count:\", non_fake_news_count)\n",
    "\n",
    "# Plot the distribution of labels\n",
    "labels = ['Fake', 'Not Fake']\n",
    "counts = [fake_news_count, non_fake_news_count]\n",
    "\n",
    "plt.bar(labels, counts)\n",
    "plt.xlabel('Label')\n",
    "plt.ylabel('Count')\n",
    "plt.title('Distribution of the Target Variable')\n",
    "plt.show()\n"
   ]
  },
  {
   "cell_type": "markdown",
   "id": "2857be21",
   "metadata": {},
   "source": [
    "The bar graph shows how the target variable is distributed and counts how many fake news and non-fake news are present in the article. As the bar graph shows, we have more fake news in the dataset, and again (we alread stated it above) will not be an issue, and we can still consider the dataset balance"
   ]
  },
  {
   "cell_type": "code",
   "execution_count": 31,
   "id": "4a3fc0f5",
   "metadata": {},
   "outputs": [
    {
     "data": {
      "image/png": "[encoded data removed]",
      "text/plain": [
       "<Figure size 640x480 with 1 Axes>"
      ]
     },
     "metadata": {},
     "output_type": "display_data"
    }
   ],
   "source": [
    "# Histogram of article lengths\n",
    "dfFull['text_length'] = dfFull['text'].apply(len)\n",
    "plt.hist(dfFull['text_length'], bins=150)\n",
    "plt.xlabel('Text Length')\n",
    "plt.ylabel('Count')\n",
    "plt.title('Distribution of Article Lengths')\n",
    "\n",
    "# Change the x-axis limits\n",
    "plt.xlim(0, 15000)  # Set the lower and upper limits of the x-axis\n",
    "\n",
    "plt.show()"
   ]
  },
  {
   "cell_type": "markdown",
   "id": "4ed63087",
   "metadata": {},
   "source": [
    "This bar graph shows the length of the articles within the dataset. Most articles have a maximum length of around 3,000 words"
   ]
  },
  {
   "cell_type": "code",
   "execution_count": 32,
   "id": "8fa431f5",
   "metadata": {},
   "outputs": [
    {
     "data": {
      "text/plain": [
       "<AxesSubplot:>"
      ]
     },
     "execution_count": 32,
     "metadata": {},
     "output_type": "execute_result"
    },
    {
     "data": {
      "image/png": "[encoded data removed]",
      "text/plain": [
       "<Figure size 640x480 with 2 Axes>"
      ]
     },
     "metadata": {},
     "output_type": "display_data"
    }
   ],
   "source": [
    "import seaborn as sns\n",
    "\n",
    "corr_matrix = dfFull.corr()\n",
    "sns.heatmap(corr_matrix, annot=True, cmap='coolwarm')"
   ]
  },
  {
   "cell_type": "markdown",
   "id": "b015d652",
   "metadata": {},
   "source": [
    "The heatmap shows the correlation between the features. (ask info to teacher). It shows that there is no correletion between the lenght of the news, and if the news is either true or false."
   ]
  },
  {
   "cell_type": "code",
   "execution_count": 34,
   "id": "c11ac3e1",
   "metadata": {},
   "outputs": [
    {
     "data": {
      "image/png": "[encoded data removed]",
      "text/plain": [
       "<Figure size 1200x800 with 2 Axes>"
      ]
     },
     "metadata": {},
     "output_type": "display_data"
    }
   ],
   "source": [
    "import seaborn as sns\n",
    "import matplotlib.pyplot as plt\n",
    "\n",
    "# select only the numerical columns in the DataFrame\n",
    "numerical_cols = dfFull.select_dtypes(include='number').columns.tolist()\n",
    "\n",
    "# create boxplots for each numerical column\n",
    "plt.figure(figsize=(12, 8))\n",
    "for i, col in enumerate(numerical_cols):\n",
    "    plt.subplot(3, 3, i+1)\n",
    "    sns.boxplot(x=dfFull[col])\n",
    "    plt.tight_layout()\n"
   ]
  },
  {
   "cell_type": "markdown",
   "id": "928c3e90",
   "metadata": {},
   "source": [
    "For checking for outliers, we count and show the distribution of the two numerical variables we have (label) and text_lenght. As we can see most of the text has a length of 0 to 2000, still we do not need to manipulate the outliers, because they do not have any effects on the model."
   ]
  },
  {
   "cell_type": "markdown",
   "id": "405c9f1d",
   "metadata": {},
   "source": [
    "# Predictions Phase (3)"
   ]
  },
  {
   "cell_type": "markdown",
   "id": "f073aa5d",
   "metadata": {},
   "source": [
    "#### Check proper values for MIN DIF  and MAX WORDS"
   ]
  },
  {
   "cell_type": "code",
   "execution_count": 35,
   "id": "7af861f1",
   "metadata": {},
   "outputs": [
    {
     "name": "stderr",
     "output_type": "stream",
     "text": [
      "C:\\Users\\Roberto Conti\\anaconda3\\lib\\site-packages\\sklearn\\utils\\deprecation.py:87: FutureWarning: Function get_feature_names is deprecated; get_feature_names is deprecated in 1.0 and will be removed in 1.2. Please use get_feature_names_out instead.\n",
      "  warnings.warn(msg, category=FutureWarning)\n"
     ]
    },
    {
     "data": {
      "image/png": "[encoded data removed]",
      "text/plain": [
       "<Figure size 640x480 with 1 Axes>"
      ]
     },
     "metadata": {},
     "output_type": "display_data"
    }
   ],
   "source": [
    "from sklearn.feature_extraction.text import TfidfVectorizer\n",
    "\n",
    "sample_size = 5000\n",
    "max_words = 1000\n",
    "min_dfs = [0.005, 0.01, 0.02, 0.03, 0.04, 0.05] \n",
    "\n",
    "\n",
    "df = dfFull.sample(sample_size, random_state=random_state)\n",
    "\n",
    "num_selected_words = []\n",
    "num_dropped_words = []\n",
    "\n",
    "for min_df in min_dfs:\n",
    "    vectorizer = TfidfVectorizer(max_features=max_words, min_df=min_df, stop_words=\"english\")\n",
    "    X_vectorized = vectorizer.fit_transform(df[\"text\"]).toarray()\n",
    "    selected_words = vectorizer.get_feature_names()\n",
    "\n",
    "    num_selected_words.append(len(selected_words))\n",
    "    num_dropped_words.append(max_words - len(selected_words))\n",
    "\n",
    "# Plot the number of selected words and dropped words for each min_df value\n",
    "plt.plot(min_dfs, num_selected_words, marker='o', label='Selected Words')\n",
    "plt.plot(min_dfs, num_dropped_words, marker='o', label='Dropped Words')\n",
    "plt.xlabel('min_df')\n",
    "plt.ylabel('Number of Words')\n",
    "plt.title('Number of Selected Words and Dropped Words for Different min_df Values')\n",
    "plt.legend()\n",
    "plt.show()\n"
   ]
  },
  {
   "cell_type": "markdown",
   "id": "99493f49",
   "metadata": {},
   "source": [
    "It is important to define the minimum document frequency, as it decides when a word will or will not be kept in the vocabulary based on its frequency. Deciding the min_df influences factors such as:\n",
    "\n",
    "Coverage,\n",
    "Relevance,\n",
    "Overfitting\n",
    "\n",
    "In fact, having a low min_df allows us to have a greater <b>coverage</b> of words where more unique terms are included in the vocabulary. , while the <b>relevance</b> tells us precisely the relevance of a word, If the number of selected words is significantly higher than the dropped words, it may include many noise or irrelevant terms that could negatively impact the model's performance. Concerning <b>overfitting</b> a lower number of selected words and a higher number of dropped words can help prevent overfitting, where the model becomes too specific to the training data and performs poorly on new, unseen data.\n",
    "\n",
    "By seeing the graph I will use min_df = 0.04 because it is the best trade-off between selected and dropped words, and giving the right balance between Coverage, Relevance and Overfitting."
   ]
  },
  {
   "cell_type": "markdown",
   "id": "4576f62a",
   "metadata": {},
   "source": [
    "the above vectorizer removed the original text from the observation, it is added again for semplicty of readability for humans "
   ]
  },
  {
   "cell_type": "code",
   "execution_count": 36,
   "id": "fb546778",
   "metadata": {},
   "outputs": [
    {
     "data": {
      "image/png": "[encoded data removed]",
      "text/plain": [
       "<Figure size 640x480 with 1 Axes>"
      ]
     },
     "metadata": {},
     "output_type": "display_data"
    }
   ],
   "source": [
    "import matplotlib.pyplot as plt\n",
    "from sklearn.feature_extraction.text import TfidfVectorizer\n",
    "from sklearn.svm import SVC\n",
    "from sklearn.model_selection import train_test_split\n",
    "\n",
    "\n",
    "# Sample the dataset\n",
    "df_sampled = df.sample(sample_size, random_state=random_state)\n",
    "\n",
    "# Define the different numbers of words to evaluate\n",
    "word_counts = [100, 500, 1000]\n",
    "\n",
    "# Initialize an empty list to store accuracies\n",
    "accuracies = []\n",
    "\n",
    "# Iterate over the word counts\n",
    "for word_count in word_counts:\n",
    "    # Vectorize the text using the specified word count\n",
    "    vectorizer = TfidfVectorizer(max_features=word_count, min_df=min_df, stop_words=\"english\")\n",
    "    X_vectorized = vectorizer.fit_transform(df_sampled[\"text\"]).toarray()\n",
    "\n",
    "    # Split the data into train and test sets\n",
    "    X_train, X_test, y_train, y_test = train_test_split(X_vectorized, df_sampled[\"label\"], test_size=0.2, random_state=random_state)\n",
    "\n",
    "    # Train an SVM model with sigmoid kernel\n",
    "    model = SVC(kernel='sigmoid')\n",
    "    model.fit(X_train, y_train)\n",
    "\n",
    "    # Evaluate the model on the test set and store the accuracy\n",
    "    accuracy = model.score(X_test, y_test)\n",
    "    accuracies.append(accuracy)\n",
    "\n",
    "# Plot the accuracy vs. number of words\n",
    "plt.plot(word_counts, accuracies, marker='o')\n",
    "plt.xlabel('Number of Words')\n",
    "plt.ylabel('Accuracy')\n",
    "plt.title('Model Accuracy vs. Number of Words (Sigmoid Kernel)')\n",
    "plt.show()\n"
   ]
  },
  {
   "cell_type": "markdown",
   "id": "d245f6c9",
   "metadata": {},
   "source": [
    "I tested different numbers of words to see if I could use more than 500; as the graph shows, when the number of words increases, the accuracy also increases, consequently the model will not be overfitted if I increase the number of words. If there had been a decrease in the graph, then this would have meant that as the number of words increased, overfitting would have occurred. In conclusion I can use 1000"
   ]
  },
  {
   "cell_type": "markdown",
   "id": "03cfdd37",
   "metadata": {},
   "source": [
    "# Predictions Phase (3)"
   ]
  },
  {
   "cell_type": "markdown",
   "id": "4d2a6017",
   "metadata": {},
   "source": [
    "# SVM CLASSIFIER (Sigmoid kernel)"
   ]
  },
  {
   "cell_type": "markdown",
   "id": "39e8cb35",
   "metadata": {},
   "source": [
    "Due to the fact that the solution I am trying to tackle, is a classification problem, I have decided to use a support vector Machine, which use hyperplanes to divide the two class. First thing I have done, is trying a linear kernel, which gave me an higher percentage of accuracy. This high accuracy was due to the fact that the model was overfitted, because I fitted a line on data points that weren't at all linearly separable, so basically with real world data, would just wrongly classify them. So then, after some research, feedbacks and logic, and graph my data I came to the conclusion that the data were not liner seperable, so the decision of using a <b>sigmoid Kernel</b>. So the input data are transformed into a higher dimensional space and in this way the classes are easy to be separate.\n",
    "    The choose of sigmoid is because the data are not linear seperable, and so the SVM classifier work better by using this type of kernel"
   ]
  },
  {
   "cell_type": "markdown",
   "id": "7393873a",
   "metadata": {},
   "source": [
    "## Text pre-processing"
   ]
  },
  {
   "cell_type": "markdown",
   "id": "d86c4a4d",
   "metadata": {},
   "source": [
    "I choose a sample size of 5000 to limit the amount of data being processed, in this way it more efficient and easier to work with. I have tried with bigger numbers but does not change the accuracy. I choose max words 1000, because it gave me a better accuracy than 100 max_words, but can cause overfitting, So then i Have decided for 500 that gives 87% of accuracy, which is pretty high. min_df define that a word should be appear at least more than 1% of the texts to be included in the vocabulary (max_words).\n",
    "\n",
    "The vectorizer is then used to fit and reshape the text column of the df, and the outcome is then converted to a NumPy array. The collection that results is given to X_vectorized. By converting X_vectorized to a Pandas dataframe and adding a new column max_words to it, which contains the original text from the text column of df, we have the final dataframe"
   ]
  },
  {
   "cell_type": "code",
   "execution_count": 37,
   "id": "f3a225f4",
   "metadata": {},
   "outputs": [
    {
     "data": {
      "text/plain": [
       "(5000, 829)"
      ]
     },
     "execution_count": 37,
     "metadata": {},
     "output_type": "execute_result"
    }
   ],
   "source": [
    "sample_size = 5000\n",
    "max_words = 1000\n",
    "min_df = .04\n",
    "\n",
    "df = df.sample(sample_size, random_state=random_state)\n",
    "from sklearn.feature_extraction.text import TfidfVectorizer\n",
    "vectorizer = TfidfVectorizer(max_features=max_words, min_df=min_df, stop_words= \"english\")\n",
    "X_vectorized = vectorizer.fit_transform(df[\"text\"]).toarray()\n",
    "X_vectorized.shape"
   ]
  },
  {
   "cell_type": "markdown",
   "id": "a2e6108b",
   "metadata": {},
   "source": [
    "the above vectorizer removed the original text from the observation, it is added again for semplicty of readability for humans "
   ]
  },
  {
   "cell_type": "code",
   "execution_count": 38,
   "id": "5569c266",
   "metadata": {},
   "outputs": [
    {
     "data": {
      "text/html": [
       "<div>\n",
       "<style scoped>\n",
       "    .dataframe tbody tr th:only-of-type {\n",
       "        vertical-align: middle;\n",
       "    }\n",
       "\n",
       "    .dataframe tbody tr th {\n",
       "        vertical-align: top;\n",
       "    }\n",
       "\n",
       "    .dataframe thead th {\n",
       "        text-align: right;\n",
       "    }\n",
       "</style>\n",
       "<table border=\"1\" class=\"dataframe\">\n",
       "  <thead>\n",
       "    <tr style=\"text-align: right;\">\n",
       "      <th></th>\n",
       "      <th>0</th>\n",
       "      <th>1</th>\n",
       "      <th>2</th>\n",
       "      <th>3</th>\n",
       "      <th>4</th>\n",
       "      <th>5</th>\n",
       "      <th>6</th>\n",
       "      <th>7</th>\n",
       "      <th>8</th>\n",
       "      <th>9</th>\n",
       "      <th>...</th>\n",
       "      <th>820</th>\n",
       "      <th>821</th>\n",
       "      <th>822</th>\n",
       "      <th>823</th>\n",
       "      <th>824</th>\n",
       "      <th>825</th>\n",
       "      <th>826</th>\n",
       "      <th>827</th>\n",
       "      <th>828</th>\n",
       "      <th>1000</th>\n",
       "    </tr>\n",
       "  </thead>\n",
       "  <tbody>\n",
       "    <tr>\n",
       "      <th>0</th>\n",
       "      <td>0.047025</td>\n",
       "      <td>0.000000</td>\n",
       "      <td>0.0</td>\n",
       "      <td>0.000000</td>\n",
       "      <td>0.0</td>\n",
       "      <td>0.0</td>\n",
       "      <td>0.0</td>\n",
       "      <td>0.0</td>\n",
       "      <td>0.0</td>\n",
       "      <td>0.000000</td>\n",
       "      <td>...</td>\n",
       "      <td>0.0</td>\n",
       "      <td>0.066685</td>\n",
       "      <td>0.0</td>\n",
       "      <td>0.0</td>\n",
       "      <td>0.000000</td>\n",
       "      <td>0.000000</td>\n",
       "      <td>0.0</td>\n",
       "      <td>0.000000</td>\n",
       "      <td>0.000000</td>\n",
       "      <td>Here Are The Presstitutes Who Control American's Minds . \\nI just heard an NPR presstitute declare that Texas, a traditional sure thing for Republicans was up for grabs in the presidential electio...</td>\n",
       "    </tr>\n",
       "    <tr>\n",
       "      <th>1</th>\n",
       "      <td>0.000000</td>\n",
       "      <td>0.051527</td>\n",
       "      <td>0.0</td>\n",
       "      <td>0.000000</td>\n",
       "      <td>0.0</td>\n",
       "      <td>0.0</td>\n",
       "      <td>0.0</td>\n",
       "      <td>0.0</td>\n",
       "      <td>0.0</td>\n",
       "      <td>0.000000</td>\n",
       "      <td>...</td>\n",
       "      <td>0.0</td>\n",
       "      <td>0.069849</td>\n",
       "      <td>0.0</td>\n",
       "      <td>0.0</td>\n",
       "      <td>0.037099</td>\n",
       "      <td>0.038709</td>\n",
       "      <td>0.0</td>\n",
       "      <td>0.000000</td>\n",
       "      <td>0.060611</td>\n",
       "      <td>Well, this is embarrassing! The NFL commissioner was getting help from a helicopter wife who set up a fake twitter account to counter any negative press on her husband. It s pretty shocking becaus...</td>\n",
       "    </tr>\n",
       "    <tr>\n",
       "      <th>2</th>\n",
       "      <td>0.000000</td>\n",
       "      <td>0.000000</td>\n",
       "      <td>0.0</td>\n",
       "      <td>0.155053</td>\n",
       "      <td>0.0</td>\n",
       "      <td>0.0</td>\n",
       "      <td>0.0</td>\n",
       "      <td>0.0</td>\n",
       "      <td>0.0</td>\n",
       "      <td>0.000000</td>\n",
       "      <td>...</td>\n",
       "      <td>0.0</td>\n",
       "      <td>0.000000</td>\n",
       "      <td>0.0</td>\n",
       "      <td>0.0</td>\n",
       "      <td>0.049397</td>\n",
       "      <td>0.000000</td>\n",
       "      <td>0.0</td>\n",
       "      <td>0.000000</td>\n",
       "      <td>0.000000</td>\n",
       "      <td>Florida s Republican governor Rick Scott is not allowing the impending pressure of Hurricane Matthew to interrupt his partisan push on behalf of Donald Trump in his state. The storm is expected to...</td>\n",
       "    </tr>\n",
       "    <tr>\n",
       "      <th>3</th>\n",
       "      <td>0.000000</td>\n",
       "      <td>0.000000</td>\n",
       "      <td>0.0</td>\n",
       "      <td>0.000000</td>\n",
       "      <td>0.0</td>\n",
       "      <td>0.0</td>\n",
       "      <td>0.0</td>\n",
       "      <td>0.0</td>\n",
       "      <td>0.0</td>\n",
       "      <td>0.348709</td>\n",
       "      <td>...</td>\n",
       "      <td>0.0</td>\n",
       "      <td>0.000000</td>\n",
       "      <td>0.0</td>\n",
       "      <td>0.0</td>\n",
       "      <td>0.000000</td>\n",
       "      <td>0.000000</td>\n",
       "      <td>0.0</td>\n",
       "      <td>0.000000</td>\n",
       "      <td>0.000000</td>\n",
       "      <td>Everyone s been asking where the Hillary van is So Hillary pulls up in a gas guzzling van with tinted windows-I thought she wanted to mingle with the regular folk? This monster gets 16-18 miles pe...</td>\n",
       "    </tr>\n",
       "    <tr>\n",
       "      <th>4</th>\n",
       "      <td>0.000000</td>\n",
       "      <td>0.000000</td>\n",
       "      <td>0.0</td>\n",
       "      <td>0.000000</td>\n",
       "      <td>0.0</td>\n",
       "      <td>0.0</td>\n",
       "      <td>0.0</td>\n",
       "      <td>0.0</td>\n",
       "      <td>0.0</td>\n",
       "      <td>0.000000</td>\n",
       "      <td>...</td>\n",
       "      <td>0.0</td>\n",
       "      <td>0.000000</td>\n",
       "      <td>0.0</td>\n",
       "      <td>0.0</td>\n",
       "      <td>0.000000</td>\n",
       "      <td>0.000000</td>\n",
       "      <td>0.0</td>\n",
       "      <td>0.000000</td>\n",
       "      <td>0.000000</td>\n",
       "      <td>Podcast: Play in new window | Download | Embed \\nYou’ll no doubt remember the quotes from that 1998 60 Minutes piece on Soros from Episode 113 of The Corbett Report podcast. Well guess what? That ...</td>\n",
       "    </tr>\n",
       "    <tr>\n",
       "      <th>...</th>\n",
       "      <td>...</td>\n",
       "      <td>...</td>\n",
       "      <td>...</td>\n",
       "      <td>...</td>\n",
       "      <td>...</td>\n",
       "      <td>...</td>\n",
       "      <td>...</td>\n",
       "      <td>...</td>\n",
       "      <td>...</td>\n",
       "      <td>...</td>\n",
       "      <td>...</td>\n",
       "      <td>...</td>\n",
       "      <td>...</td>\n",
       "      <td>...</td>\n",
       "      <td>...</td>\n",
       "      <td>...</td>\n",
       "      <td>...</td>\n",
       "      <td>...</td>\n",
       "      <td>...</td>\n",
       "      <td>...</td>\n",
       "      <td>...</td>\n",
       "    </tr>\n",
       "    <tr>\n",
       "      <th>4995</th>\n",
       "      <td>0.000000</td>\n",
       "      <td>0.000000</td>\n",
       "      <td>0.0</td>\n",
       "      <td>0.000000</td>\n",
       "      <td>0.0</td>\n",
       "      <td>0.0</td>\n",
       "      <td>0.0</td>\n",
       "      <td>0.0</td>\n",
       "      <td>0.0</td>\n",
       "      <td>0.000000</td>\n",
       "      <td>...</td>\n",
       "      <td>0.0</td>\n",
       "      <td>0.000000</td>\n",
       "      <td>0.0</td>\n",
       "      <td>0.0</td>\n",
       "      <td>0.000000</td>\n",
       "      <td>0.000000</td>\n",
       "      <td>0.0</td>\n",
       "      <td>0.000000</td>\n",
       "      <td>0.000000</td>\n",
       "      <td>Republican U.S. Senator Ted Cruz on Tuesday accused the Obama administration of under-emphasizing the “threat of radical Islam” as he presided over a Senate hearing for the second time since suspe...</td>\n",
       "    </tr>\n",
       "    <tr>\n",
       "      <th>4996</th>\n",
       "      <td>0.000000</td>\n",
       "      <td>0.000000</td>\n",
       "      <td>0.0</td>\n",
       "      <td>0.000000</td>\n",
       "      <td>0.0</td>\n",
       "      <td>0.0</td>\n",
       "      <td>0.0</td>\n",
       "      <td>0.0</td>\n",
       "      <td>0.0</td>\n",
       "      <td>0.000000</td>\n",
       "      <td>...</td>\n",
       "      <td>0.0</td>\n",
       "      <td>0.000000</td>\n",
       "      <td>0.0</td>\n",
       "      <td>0.0</td>\n",
       "      <td>0.000000</td>\n",
       "      <td>0.000000</td>\n",
       "      <td>0.0</td>\n",
       "      <td>0.000000</td>\n",
       "      <td>0.000000</td>\n",
       "      <td>Despite so many false statements and lies, total and complete vindication...and WOW, Comey is a leaker! [0610 EDT]</td>\n",
       "    </tr>\n",
       "    <tr>\n",
       "      <th>4997</th>\n",
       "      <td>0.000000</td>\n",
       "      <td>0.000000</td>\n",
       "      <td>0.0</td>\n",
       "      <td>0.000000</td>\n",
       "      <td>0.0</td>\n",
       "      <td>0.0</td>\n",
       "      <td>0.0</td>\n",
       "      <td>0.0</td>\n",
       "      <td>0.0</td>\n",
       "      <td>0.000000</td>\n",
       "      <td>...</td>\n",
       "      <td>0.0</td>\n",
       "      <td>0.000000</td>\n",
       "      <td>0.0</td>\n",
       "      <td>0.0</td>\n",
       "      <td>0.000000</td>\n",
       "      <td>0.000000</td>\n",
       "      <td>0.0</td>\n",
       "      <td>0.000000</td>\n",
       "      <td>0.000000</td>\n",
       "      <td>(AP) VATICAN CITY  —   Palestinian Authority President Mahmoud Abbas warned Saturday that peace could suffer if the incoming Trump administration goes ahead with plans to move the US embassy to Is...</td>\n",
       "    </tr>\n",
       "    <tr>\n",
       "      <th>4998</th>\n",
       "      <td>0.000000</td>\n",
       "      <td>0.042917</td>\n",
       "      <td>0.0</td>\n",
       "      <td>0.000000</td>\n",
       "      <td>0.0</td>\n",
       "      <td>0.0</td>\n",
       "      <td>0.0</td>\n",
       "      <td>0.0</td>\n",
       "      <td>0.0</td>\n",
       "      <td>0.000000</td>\n",
       "      <td>...</td>\n",
       "      <td>0.0</td>\n",
       "      <td>0.000000</td>\n",
       "      <td>0.0</td>\n",
       "      <td>0.0</td>\n",
       "      <td>0.000000</td>\n",
       "      <td>0.000000</td>\n",
       "      <td>0.0</td>\n",
       "      <td>0.000000</td>\n",
       "      <td>0.000000</td>\n",
       "      <td>Ruling coalition lawmakers stand to approve the passage of the Trans-Pacific Partnership (TPP) free trade deal in the lower house of the parliament in Tokyo on November 10, 2016.\\nJapan’s Lower Ho...</td>\n",
       "    </tr>\n",
       "    <tr>\n",
       "      <th>4999</th>\n",
       "      <td>0.000000</td>\n",
       "      <td>0.000000</td>\n",
       "      <td>0.0</td>\n",
       "      <td>0.000000</td>\n",
       "      <td>0.0</td>\n",
       "      <td>0.0</td>\n",
       "      <td>0.0</td>\n",
       "      <td>0.0</td>\n",
       "      <td>0.0</td>\n",
       "      <td>0.000000</td>\n",
       "      <td>...</td>\n",
       "      <td>0.0</td>\n",
       "      <td>0.000000</td>\n",
       "      <td>0.0</td>\n",
       "      <td>0.0</td>\n",
       "      <td>0.000000</td>\n",
       "      <td>0.000000</td>\n",
       "      <td>0.0</td>\n",
       "      <td>0.083684</td>\n",
       "      <td>0.000000</td>\n",
       "      <td>An obscure Trump campaign adviser pleaded guilty to lying to FBI agents about contacts with people who claimed to have ties to top Russian officials, in the first criminal charges alleging links b...</td>\n",
       "    </tr>\n",
       "  </tbody>\n",
       "</table>\n",
       "<p>5000 rows × 830 columns</p>\n",
       "</div>"
      ],
      "text/plain": [
       "          0         1     2         3     4     5     6     7     8     \\\n",
       "0     0.047025  0.000000   0.0  0.000000   0.0   0.0   0.0   0.0   0.0   \n",
       "1     0.000000  0.051527   0.0  0.000000   0.0   0.0   0.0   0.0   0.0   \n",
       "2     0.000000  0.000000   0.0  0.155053   0.0   0.0   0.0   0.0   0.0   \n",
       "3     0.000000  0.000000   0.0  0.000000   0.0   0.0   0.0   0.0   0.0   \n",
       "4     0.000000  0.000000   0.0  0.000000   0.0   0.0   0.0   0.0   0.0   \n",
       "...        ...       ...   ...       ...   ...   ...   ...   ...   ...   \n",
       "4995  0.000000  0.000000   0.0  0.000000   0.0   0.0   0.0   0.0   0.0   \n",
       "4996  0.000000  0.000000   0.0  0.000000   0.0   0.0   0.0   0.0   0.0   \n",
       "4997  0.000000  0.000000   0.0  0.000000   0.0   0.0   0.0   0.0   0.0   \n",
       "4998  0.000000  0.042917   0.0  0.000000   0.0   0.0   0.0   0.0   0.0   \n",
       "4999  0.000000  0.000000   0.0  0.000000   0.0   0.0   0.0   0.0   0.0   \n",
       "\n",
       "          9     ...  820       821   822   823       824       825   826   \\\n",
       "0     0.000000  ...   0.0  0.066685   0.0   0.0  0.000000  0.000000   0.0   \n",
       "1     0.000000  ...   0.0  0.069849   0.0   0.0  0.037099  0.038709   0.0   \n",
       "2     0.000000  ...   0.0  0.000000   0.0   0.0  0.049397  0.000000   0.0   \n",
       "3     0.348709  ...   0.0  0.000000   0.0   0.0  0.000000  0.000000   0.0   \n",
       "4     0.000000  ...   0.0  0.000000   0.0   0.0  0.000000  0.000000   0.0   \n",
       "...        ...  ...   ...       ...   ...   ...       ...       ...   ...   \n",
       "4995  0.000000  ...   0.0  0.000000   0.0   0.0  0.000000  0.000000   0.0   \n",
       "4996  0.000000  ...   0.0  0.000000   0.0   0.0  0.000000  0.000000   0.0   \n",
       "4997  0.000000  ...   0.0  0.000000   0.0   0.0  0.000000  0.000000   0.0   \n",
       "4998  0.000000  ...   0.0  0.000000   0.0   0.0  0.000000  0.000000   0.0   \n",
       "4999  0.000000  ...   0.0  0.000000   0.0   0.0  0.000000  0.000000   0.0   \n",
       "\n",
       "          827       828   \\\n",
       "0     0.000000  0.000000   \n",
       "1     0.000000  0.060611   \n",
       "2     0.000000  0.000000   \n",
       "3     0.000000  0.000000   \n",
       "4     0.000000  0.000000   \n",
       "...        ...       ...   \n",
       "4995  0.000000  0.000000   \n",
       "4996  0.000000  0.000000   \n",
       "4997  0.000000  0.000000   \n",
       "4998  0.000000  0.000000   \n",
       "4999  0.083684  0.000000   \n",
       "\n",
       "                                                                                                                                                                                                         1000  \n",
       "0     Here Are The Presstitutes Who Control American's Minds . \\nI just heard an NPR presstitute declare that Texas, a traditional sure thing for Republicans was up for grabs in the presidential electio...  \n",
       "1     Well, this is embarrassing! The NFL commissioner was getting help from a helicopter wife who set up a fake twitter account to counter any negative press on her husband. It s pretty shocking becaus...  \n",
       "2     Florida s Republican governor Rick Scott is not allowing the impending pressure of Hurricane Matthew to interrupt his partisan push on behalf of Donald Trump in his state. The storm is expected to...  \n",
       "3     Everyone s been asking where the Hillary van is So Hillary pulls up in a gas guzzling van with tinted windows-I thought she wanted to mingle with the regular folk? This monster gets 16-18 miles pe...  \n",
       "4     Podcast: Play in new window | Download | Embed \\nYou’ll no doubt remember the quotes from that 1998 60 Minutes piece on Soros from Episode 113 of The Corbett Report podcast. Well guess what? That ...  \n",
       "...                                                                                                                                                                                                       ...  \n",
       "4995  Republican U.S. Senator Ted Cruz on Tuesday accused the Obama administration of under-emphasizing the “threat of radical Islam” as he presided over a Senate hearing for the second time since suspe...  \n",
       "4996                                                                                       Despite so many false statements and lies, total and complete vindication...and WOW, Comey is a leaker! [0610 EDT]  \n",
       "4997  (AP) VATICAN CITY  —   Palestinian Authority President Mahmoud Abbas warned Saturday that peace could suffer if the incoming Trump administration goes ahead with plans to move the US embassy to Is...  \n",
       "4998  Ruling coalition lawmakers stand to approve the passage of the Trans-Pacific Partnership (TPP) free trade deal in the lower house of the parliament in Tokyo on November 10, 2016.\\nJapan’s Lower Ho...  \n",
       "4999  An obscure Trump campaign adviser pleaded guilty to lying to FBI agents about contacts with people who claimed to have ties to top Russian officials, in the first criminal charges alleging links b...  \n",
       "\n",
       "[5000 rows x 830 columns]"
      ]
     },
     "execution_count": 38,
     "metadata": {},
     "output_type": "execute_result"
    }
   ],
   "source": [
    "X = pd.DataFrame(X_vectorized)\n",
    "X[max_words] = df[\"text\"].values\n",
    "y = df[\"label\"]\n",
    "X"
   ]
  },
  {
   "cell_type": "markdown",
   "id": "49482289",
   "metadata": {},
   "source": [
    "### Splitting into train/test"
   ]
  },
  {
   "cell_type": "markdown",
   "id": "4335259d",
   "metadata": {},
   "source": [
    "The data is divided into training and testing groups by this code. The column containing the text data is then taken out of the training set so that the model can only be trained on the number data.\n",
    "\n",
    "Why we are splitting the data into train-test?\n",
    "To assess how well a machine learning model performs on data that it has never seen before, it is crucial to divide the data into training and testing groups. The testing set is used to assess the model's performance on unobserved data while the training set is used to train the model, that is, to understand the patterns and relationships in the data. By determining whether the model is overfitting or underfitting, this aids in fine-tuning its characteristics. This will enable us to estimate the model's success on fresh, untested data with greater accuracy."
   ]
  },
  {
   "cell_type": "code",
   "execution_count": 39,
   "id": "9283b4f7",
   "metadata": {},
   "outputs": [
    {
     "data": {
      "text/html": [
       "<div>\n",
       "<style scoped>\n",
       "    .dataframe tbody tr th:only-of-type {\n",
       "        vertical-align: middle;\n",
       "    }\n",
       "\n",
       "    .dataframe tbody tr th {\n",
       "        vertical-align: top;\n",
       "    }\n",
       "\n",
       "    .dataframe thead th {\n",
       "        text-align: right;\n",
       "    }\n",
       "</style>\n",
       "<table border=\"1\" class=\"dataframe\">\n",
       "  <thead>\n",
       "    <tr style=\"text-align: right;\">\n",
       "      <th></th>\n",
       "      <th>0</th>\n",
       "      <th>1</th>\n",
       "      <th>2</th>\n",
       "      <th>3</th>\n",
       "      <th>4</th>\n",
       "      <th>5</th>\n",
       "      <th>6</th>\n",
       "      <th>7</th>\n",
       "      <th>8</th>\n",
       "      <th>9</th>\n",
       "      <th>...</th>\n",
       "      <th>819</th>\n",
       "      <th>820</th>\n",
       "      <th>821</th>\n",
       "      <th>822</th>\n",
       "      <th>823</th>\n",
       "      <th>824</th>\n",
       "      <th>825</th>\n",
       "      <th>826</th>\n",
       "      <th>827</th>\n",
       "      <th>828</th>\n",
       "    </tr>\n",
       "  </thead>\n",
       "  <tbody>\n",
       "    <tr>\n",
       "      <th>4227</th>\n",
       "      <td>0.000000</td>\n",
       "      <td>0.000000</td>\n",
       "      <td>0.00000</td>\n",
       "      <td>0.000000</td>\n",
       "      <td>0.000000</td>\n",
       "      <td>0.000000</td>\n",
       "      <td>0.000000</td>\n",
       "      <td>0.000000</td>\n",
       "      <td>0.0</td>\n",
       "      <td>0.0</td>\n",
       "      <td>...</td>\n",
       "      <td>0.000000</td>\n",
       "      <td>0.0</td>\n",
       "      <td>0.0</td>\n",
       "      <td>0.0</td>\n",
       "      <td>0.000000</td>\n",
       "      <td>0.000000</td>\n",
       "      <td>0.000000</td>\n",
       "      <td>0.0</td>\n",
       "      <td>0.000000</td>\n",
       "      <td>0.0</td>\n",
       "    </tr>\n",
       "    <tr>\n",
       "      <th>4676</th>\n",
       "      <td>0.000000</td>\n",
       "      <td>0.000000</td>\n",
       "      <td>0.00000</td>\n",
       "      <td>0.000000</td>\n",
       "      <td>0.000000</td>\n",
       "      <td>0.000000</td>\n",
       "      <td>0.000000</td>\n",
       "      <td>0.000000</td>\n",
       "      <td>0.0</td>\n",
       "      <td>0.0</td>\n",
       "      <td>...</td>\n",
       "      <td>0.000000</td>\n",
       "      <td>0.0</td>\n",
       "      <td>0.0</td>\n",
       "      <td>0.0</td>\n",
       "      <td>0.000000</td>\n",
       "      <td>0.124135</td>\n",
       "      <td>0.000000</td>\n",
       "      <td>0.0</td>\n",
       "      <td>0.000000</td>\n",
       "      <td>0.0</td>\n",
       "    </tr>\n",
       "    <tr>\n",
       "      <th>800</th>\n",
       "      <td>0.000000</td>\n",
       "      <td>0.000000</td>\n",
       "      <td>0.00000</td>\n",
       "      <td>0.048101</td>\n",
       "      <td>0.000000</td>\n",
       "      <td>0.000000</td>\n",
       "      <td>0.000000</td>\n",
       "      <td>0.049692</td>\n",
       "      <td>0.0</td>\n",
       "      <td>0.0</td>\n",
       "      <td>...</td>\n",
       "      <td>0.070357</td>\n",
       "      <td>0.0</td>\n",
       "      <td>0.0</td>\n",
       "      <td>0.0</td>\n",
       "      <td>0.046260</td>\n",
       "      <td>0.030649</td>\n",
       "      <td>0.000000</td>\n",
       "      <td>0.0</td>\n",
       "      <td>0.041956</td>\n",
       "      <td>0.0</td>\n",
       "    </tr>\n",
       "    <tr>\n",
       "      <th>3671</th>\n",
       "      <td>0.042795</td>\n",
       "      <td>0.089537</td>\n",
       "      <td>0.05429</td>\n",
       "      <td>0.000000</td>\n",
       "      <td>0.054245</td>\n",
       "      <td>0.000000</td>\n",
       "      <td>0.000000</td>\n",
       "      <td>0.052262</td>\n",
       "      <td>0.0</td>\n",
       "      <td>0.0</td>\n",
       "      <td>...</td>\n",
       "      <td>0.000000</td>\n",
       "      <td>0.0</td>\n",
       "      <td>0.0</td>\n",
       "      <td>0.0</td>\n",
       "      <td>0.000000</td>\n",
       "      <td>0.064467</td>\n",
       "      <td>0.067264</td>\n",
       "      <td>0.0</td>\n",
       "      <td>0.000000</td>\n",
       "      <td>0.0</td>\n",
       "    </tr>\n",
       "    <tr>\n",
       "      <th>4193</th>\n",
       "      <td>0.033164</td>\n",
       "      <td>0.000000</td>\n",
       "      <td>0.00000</td>\n",
       "      <td>0.000000</td>\n",
       "      <td>0.000000</td>\n",
       "      <td>0.000000</td>\n",
       "      <td>0.000000</td>\n",
       "      <td>0.000000</td>\n",
       "      <td>0.0</td>\n",
       "      <td>0.0</td>\n",
       "      <td>...</td>\n",
       "      <td>0.000000</td>\n",
       "      <td>0.0</td>\n",
       "      <td>0.0</td>\n",
       "      <td>0.0</td>\n",
       "      <td>0.000000</td>\n",
       "      <td>0.000000</td>\n",
       "      <td>0.000000</td>\n",
       "      <td>0.0</td>\n",
       "      <td>0.000000</td>\n",
       "      <td>0.0</td>\n",
       "    </tr>\n",
       "    <tr>\n",
       "      <th>...</th>\n",
       "      <td>...</td>\n",
       "      <td>...</td>\n",
       "      <td>...</td>\n",
       "      <td>...</td>\n",
       "      <td>...</td>\n",
       "      <td>...</td>\n",
       "      <td>...</td>\n",
       "      <td>...</td>\n",
       "      <td>...</td>\n",
       "      <td>...</td>\n",
       "      <td>...</td>\n",
       "      <td>...</td>\n",
       "      <td>...</td>\n",
       "      <td>...</td>\n",
       "      <td>...</td>\n",
       "      <td>...</td>\n",
       "      <td>...</td>\n",
       "      <td>...</td>\n",
       "      <td>...</td>\n",
       "      <td>...</td>\n",
       "      <td>...</td>\n",
       "    </tr>\n",
       "    <tr>\n",
       "      <th>4426</th>\n",
       "      <td>0.091214</td>\n",
       "      <td>0.000000</td>\n",
       "      <td>0.00000</td>\n",
       "      <td>0.000000</td>\n",
       "      <td>0.000000</td>\n",
       "      <td>0.000000</td>\n",
       "      <td>0.015932</td>\n",
       "      <td>0.000000</td>\n",
       "      <td>0.0</td>\n",
       "      <td>0.0</td>\n",
       "      <td>...</td>\n",
       "      <td>0.029571</td>\n",
       "      <td>0.0</td>\n",
       "      <td>0.0</td>\n",
       "      <td>0.0</td>\n",
       "      <td>0.038886</td>\n",
       "      <td>0.008588</td>\n",
       "      <td>0.026881</td>\n",
       "      <td>0.0</td>\n",
       "      <td>0.035268</td>\n",
       "      <td>0.0</td>\n",
       "    </tr>\n",
       "    <tr>\n",
       "      <th>466</th>\n",
       "      <td>0.000000</td>\n",
       "      <td>0.000000</td>\n",
       "      <td>0.00000</td>\n",
       "      <td>0.000000</td>\n",
       "      <td>0.000000</td>\n",
       "      <td>0.254261</td>\n",
       "      <td>0.000000</td>\n",
       "      <td>0.000000</td>\n",
       "      <td>0.0</td>\n",
       "      <td>0.0</td>\n",
       "      <td>...</td>\n",
       "      <td>0.000000</td>\n",
       "      <td>0.0</td>\n",
       "      <td>0.0</td>\n",
       "      <td>0.0</td>\n",
       "      <td>0.000000</td>\n",
       "      <td>0.068604</td>\n",
       "      <td>0.071581</td>\n",
       "      <td>0.0</td>\n",
       "      <td>0.000000</td>\n",
       "      <td>0.0</td>\n",
       "    </tr>\n",
       "    <tr>\n",
       "      <th>3092</th>\n",
       "      <td>0.000000</td>\n",
       "      <td>0.000000</td>\n",
       "      <td>0.00000</td>\n",
       "      <td>0.000000</td>\n",
       "      <td>0.000000</td>\n",
       "      <td>0.000000</td>\n",
       "      <td>0.000000</td>\n",
       "      <td>0.000000</td>\n",
       "      <td>0.0</td>\n",
       "      <td>0.0</td>\n",
       "      <td>...</td>\n",
       "      <td>0.000000</td>\n",
       "      <td>0.0</td>\n",
       "      <td>0.0</td>\n",
       "      <td>0.0</td>\n",
       "      <td>0.073908</td>\n",
       "      <td>0.000000</td>\n",
       "      <td>0.000000</td>\n",
       "      <td>0.0</td>\n",
       "      <td>0.000000</td>\n",
       "      <td>0.0</td>\n",
       "    </tr>\n",
       "    <tr>\n",
       "      <th>3772</th>\n",
       "      <td>0.000000</td>\n",
       "      <td>0.000000</td>\n",
       "      <td>0.00000</td>\n",
       "      <td>0.000000</td>\n",
       "      <td>0.000000</td>\n",
       "      <td>0.000000</td>\n",
       "      <td>0.000000</td>\n",
       "      <td>0.000000</td>\n",
       "      <td>0.0</td>\n",
       "      <td>0.0</td>\n",
       "      <td>...</td>\n",
       "      <td>0.000000</td>\n",
       "      <td>0.0</td>\n",
       "      <td>0.0</td>\n",
       "      <td>0.0</td>\n",
       "      <td>0.000000</td>\n",
       "      <td>0.000000</td>\n",
       "      <td>0.000000</td>\n",
       "      <td>0.0</td>\n",
       "      <td>0.000000</td>\n",
       "      <td>0.0</td>\n",
       "    </tr>\n",
       "    <tr>\n",
       "      <th>860</th>\n",
       "      <td>0.000000</td>\n",
       "      <td>0.000000</td>\n",
       "      <td>0.00000</td>\n",
       "      <td>0.000000</td>\n",
       "      <td>0.000000</td>\n",
       "      <td>0.000000</td>\n",
       "      <td>0.000000</td>\n",
       "      <td>0.000000</td>\n",
       "      <td>0.0</td>\n",
       "      <td>0.0</td>\n",
       "      <td>...</td>\n",
       "      <td>0.000000</td>\n",
       "      <td>0.0</td>\n",
       "      <td>0.0</td>\n",
       "      <td>0.0</td>\n",
       "      <td>0.000000</td>\n",
       "      <td>0.000000</td>\n",
       "      <td>0.000000</td>\n",
       "      <td>0.0</td>\n",
       "      <td>0.000000</td>\n",
       "      <td>0.0</td>\n",
       "    </tr>\n",
       "  </tbody>\n",
       "</table>\n",
       "<p>4000 rows × 829 columns</p>\n",
       "</div>"
      ],
      "text/plain": [
       "           0         1        2         3         4         5         6    \\\n",
       "4227  0.000000  0.000000  0.00000  0.000000  0.000000  0.000000  0.000000   \n",
       "4676  0.000000  0.000000  0.00000  0.000000  0.000000  0.000000  0.000000   \n",
       "800   0.000000  0.000000  0.00000  0.048101  0.000000  0.000000  0.000000   \n",
       "3671  0.042795  0.089537  0.05429  0.000000  0.054245  0.000000  0.000000   \n",
       "4193  0.033164  0.000000  0.00000  0.000000  0.000000  0.000000  0.000000   \n",
       "...        ...       ...      ...       ...       ...       ...       ...   \n",
       "4426  0.091214  0.000000  0.00000  0.000000  0.000000  0.000000  0.015932   \n",
       "466   0.000000  0.000000  0.00000  0.000000  0.000000  0.254261  0.000000   \n",
       "3092  0.000000  0.000000  0.00000  0.000000  0.000000  0.000000  0.000000   \n",
       "3772  0.000000  0.000000  0.00000  0.000000  0.000000  0.000000  0.000000   \n",
       "860   0.000000  0.000000  0.00000  0.000000  0.000000  0.000000  0.000000   \n",
       "\n",
       "           7    8    9    ...       819  820  821  822       823       824  \\\n",
       "4227  0.000000  0.0  0.0  ...  0.000000  0.0  0.0  0.0  0.000000  0.000000   \n",
       "4676  0.000000  0.0  0.0  ...  0.000000  0.0  0.0  0.0  0.000000  0.124135   \n",
       "800   0.049692  0.0  0.0  ...  0.070357  0.0  0.0  0.0  0.046260  0.030649   \n",
       "3671  0.052262  0.0  0.0  ...  0.000000  0.0  0.0  0.0  0.000000  0.064467   \n",
       "4193  0.000000  0.0  0.0  ...  0.000000  0.0  0.0  0.0  0.000000  0.000000   \n",
       "...        ...  ...  ...  ...       ...  ...  ...  ...       ...       ...   \n",
       "4426  0.000000  0.0  0.0  ...  0.029571  0.0  0.0  0.0  0.038886  0.008588   \n",
       "466   0.000000  0.0  0.0  ...  0.000000  0.0  0.0  0.0  0.000000  0.068604   \n",
       "3092  0.000000  0.0  0.0  ...  0.000000  0.0  0.0  0.0  0.073908  0.000000   \n",
       "3772  0.000000  0.0  0.0  ...  0.000000  0.0  0.0  0.0  0.000000  0.000000   \n",
       "860   0.000000  0.0  0.0  ...  0.000000  0.0  0.0  0.0  0.000000  0.000000   \n",
       "\n",
       "           825  826       827  828  \n",
       "4227  0.000000  0.0  0.000000  0.0  \n",
       "4676  0.000000  0.0  0.000000  0.0  \n",
       "800   0.000000  0.0  0.041956  0.0  \n",
       "3671  0.067264  0.0  0.000000  0.0  \n",
       "4193  0.000000  0.0  0.000000  0.0  \n",
       "...        ...  ...       ...  ...  \n",
       "4426  0.026881  0.0  0.035268  0.0  \n",
       "466   0.071581  0.0  0.000000  0.0  \n",
       "3092  0.000000  0.0  0.000000  0.0  \n",
       "3772  0.000000  0.0  0.000000  0.0  \n",
       "860   0.000000  0.0  0.000000  0.0  \n",
       "\n",
       "[4000 rows x 829 columns]"
      ]
     },
     "execution_count": 39,
     "metadata": {},
     "output_type": "execute_result"
    }
   ],
   "source": [
    "from sklearn.model_selection import train_test_split\n",
    "X_train, X_test, y_train, y_test = train_test_split(X, y, test_size=.2, random_state=random_state)\n",
    "X_train = X_train.drop([max_words], axis=1)\n",
    "X_train"
   ]
  },
  {
   "cell_type": "markdown",
   "id": "b613a795",
   "metadata": {},
   "source": [
    "## Modelling"
   ]
  },
  {
   "cell_type": "markdown",
   "id": "c41fc7e8",
   "metadata": {},
   "source": [
    "### Sigmoid kernel (fine-tune the model with balance on  more precision)"
   ]
  },
  {
   "cell_type": "markdown",
   "id": "82702ff2",
   "metadata": {},
   "source": [
    "I have fine-tune the model for having more <b>precision</b>: the decision to balanced on more precision, is because assesses the percentage of true positives (i.e., accurately recognized fake news among all the samples that were categorized as fake news), is more crucial because the objective of this model is reducing the spread of fake news. In this situation, a low level of precision would lead to a high number of false positives, which would cause non-fake news stories to be mistakenly labeled as such and tagged, thereby causing unneeded worry."
   ]
  },
  {
   "cell_type": "code",
   "execution_count": 40,
   "id": "73c2e68c",
   "metadata": {},
   "outputs": [
    {
     "name": "stdout",
     "output_type": "stream",
     "text": [
      "Accuracy:  0.895\n",
      "Precision:  0.9546742209631728\n"
     ]
    }
   ],
   "source": [
    "from sklearn.svm import SVC\n",
    "from sklearn.metrics import precision_score\n",
    "\n",
    "# Transform the text data in X_test using the fitted vectorizer\n",
    "X_test_vectorized = vectorizer.transform(X_test[max_words]).toarray()\n",
    "\n",
    "# create an SVM classifier with the sigmoid kernel\n",
    "model_sigmoid = SVC(kernel='sigmoid', random_state=random_state)\n",
    "\n",
    "# train the SVM classifier on the training data\n",
    "model_sigmoid.fit(X_train, y_train)\n",
    "\n",
    "# Predict the decision function of the test data\n",
    "scores = model_sigmoid.decision_function(X_test_vectorized)\n",
    "\n",
    "# Adjust the decision threshold to maximize precision\n",
    "threshold = 0.8\n",
    "y_pred = (scores >= threshold).astype(int)\n",
    "\n",
    "# Evaluate the performance of the SVM classifier on the test data\n",
    "score = model_sigmoid.score(X_test_vectorized, y_test)\n",
    "print(\"Accuracy: \", score)\n",
    "\n",
    "# Compute the precision of the predictions\n",
    "precision = precision_score(y_test, y_pred)\n",
    "print(\"Precision: \", precision)\n"
   ]
  },
  {
   "cell_type": "markdown",
   "id": "c51301d9",
   "metadata": {},
   "source": [
    "## Evaluation"
   ]
  },
  {
   "cell_type": "markdown",
   "id": "b5304e18",
   "metadata": {},
   "source": [
    "The evaluation part is one of the keystone steps because it allows us to measure how our model performs on new data. It provides us with an important aspect: if our model is overfitting or underfitting the training data. Without a well-made evaluation, we cannot say if our model is trustworthy on make correct predictions on new data.  Furthermore is really important to compare different models and chose the best one. "
   ]
  },
  {
   "cell_type": "markdown",
   "id": "4a0c137c",
   "metadata": {},
   "source": [
    "### Classification Report"
   ]
  },
  {
   "cell_type": "code",
   "execution_count": 41,
   "id": "fd155e9c",
   "metadata": {},
   "outputs": [
    {
     "name": "stdout",
     "output_type": "stream",
     "text": [
      "Test set\n",
      "              precision    recall  f1-score   support\n",
      "\n",
      "           0       0.79      0.97      0.87       524\n",
      "           1       0.95      0.71      0.81       476\n",
      "\n",
      "    accuracy                           0.84      1000\n",
      "   macro avg       0.87      0.84      0.84      1000\n",
      "weighted avg       0.87      0.84      0.84      1000\n",
      "\n"
     ]
    }
   ],
   "source": [
    "from sklearn.metrics import classification_report\n",
    "from sklearn.preprocessing import LabelEncoder\n",
    "\n",
    "# Convert the labels to numeric format\n",
    "label_encoder = LabelEncoder()\n",
    "y_test_encoded = label_encoder.fit_transform(y_test)\n",
    "y_pred_encoded = label_encoder.transform(y_pred)\n",
    "\n",
    "# Generate the classification report\n",
    "report = classification_report(y_test_encoded, y_pred_encoded)\n",
    "print(\"Test set\")\n",
    "print(report)\n"
   ]
  },
  {
   "cell_type": "markdown",
   "id": "42172b9d",
   "metadata": {},
   "source": [
    "This classifications report, show basically the same results as the linear kernel one, but based on the form of our data, and due to the non linearity in our X vs Y, probably this one is not overfitted"
   ]
  },
  {
   "cell_type": "markdown",
   "id": "02e2263c",
   "metadata": {},
   "source": [
    "### Cross validation"
   ]
  },
  {
   "cell_type": "markdown",
   "id": "3e74265d",
   "metadata": {},
   "source": [
    "To check if our model is overfitted, is important to perform a cross validation in which the data are splitted into multiple fold, ad the accuracy score is given for each fold. Then an avarage has to be performed, if the results of the avg is close to the training set accuracy, then our model is not overfitted.\n",
    "In this case, avg accuracy score out all the fold, is close to the Accuracy of the test , which is means that the model is not overfitting. When I performed the same cross validation on a linear kernal, the differences was 4% which apparently seems not much, but then compared with the sigmoid is way more higher, that is why I used the wrong kernal."
   ]
  },
  {
   "cell_type": "code",
   "execution_count": 42,
   "id": "6cbe9136",
   "metadata": {},
   "outputs": [
    {
     "name": "stdout",
     "output_type": "stream",
     "text": [
      "Accuracy scores for each fold: [0.89625 0.8675  0.895   0.88375 0.8775 ]\n",
      "Average accuracy score: 0.884\n"
     ]
    }
   ],
   "source": [
    "from sklearn.model_selection import cross_val_score\n",
    "# Performing 5-fold cross validation\n",
    "scores_fold = cross_val_score( model_sigmoid, X_train, y_train, cv=5)\n",
    "print('Accuracy scores for each fold:', scores_fold)\n",
    "\n",
    "# average accuracy score\n",
    "avg_score = sum(scores_fold)/len(scores_fold)\n",
    "print('Average accuracy score:', avg_score)"
   ]
  },
  {
   "cell_type": "markdown",
   "id": "258d076b",
   "metadata": {},
   "source": [
    "the above vectorizer removed the original text from the observation, it is added again for semplicty of readability for humans "
   ]
  },
  {
   "cell_type": "markdown",
   "id": "6ec14936",
   "metadata": {},
   "source": [
    "I have used linear kernel, just for the sake of experiment, due to the conclusion that I already made above, about the fact that in this case a simple linear kernel will not work well with my data."
   ]
  },
  {
   "cell_type": "markdown",
   "id": "4b8d71b7",
   "metadata": {},
   "source": [
    "# Naive Bayes"
   ]
  },
  {
   "cell_type": "markdown",
   "id": "f7c08a75",
   "metadata": {},
   "source": [
    "## Modelling"
   ]
  },
  {
   "cell_type": "markdown",
   "id": "44d8c77d",
   "metadata": {},
   "source": [
    "### fine-tune the model with balance on  more precision"
   ]
  },
  {
   "cell_type": "markdown",
   "id": "8a95e559",
   "metadata": {},
   "source": [
    "Naive Bayes is a good algorithm for text classification because it is straightforward and effective, therefore I have chosen to give it a shot as well. It performs effectively with text data that contains a large number of words but little training data. Naive Bayes determines the class to which a piece of text belongs using probability. It also makes the generally sound assumption that the words in the text are unrelated to one another. Even in this case I have fine-tune the model for having better precision, for the same reason mentioned above."
   ]
  },
  {
   "cell_type": "code",
   "execution_count": 43,
   "id": "0508521b",
   "metadata": {},
   "outputs": [
    {
     "name": "stdout",
     "output_type": "stream",
     "text": [
      "Accuracy:  0.812\n"
     ]
    }
   ],
   "source": [
    "#try naive bayes because it use probability\n",
    "from sklearn.naive_bayes import GaussianNB\n",
    "\n",
    "# Transform the text data in X_test using the fitted vectorizer\n",
    "X_test_vectorized = vectorizer.transform(X_test[max_words]).toarray()\n",
    "\n",
    "classifier = GaussianNB()\n",
    "classifier.fit(X_train, y_train)\n",
    "\n",
    "# Predict the probabilities of the test data belonging to each class\n",
    "probs = classifier.predict_proba(X_test_vectorized)\n",
    "\n",
    "# Adjust the decision threshold to maximize precision\n",
    "threshold = 0.8\n",
    "y_pred = (probs[:, 1] >= threshold).astype(int)\n",
    "\n",
    "\n",
    "# evaluate the performance of the Naive Bayes classifier on the test data\n",
    "score = classifier.score(X_test_vectorized, y_test)\n",
    "print(\"Accuracy: \", score)\n"
   ]
  },
  {
   "cell_type": "markdown",
   "id": "11cc519e",
   "metadata": {},
   "source": [
    "# Evaluation"
   ]
  },
  {
   "cell_type": "markdown",
   "id": "d490c061",
   "metadata": {},
   "source": [
    "The evaluation part is one of the keystone steps because it allows us to measure how our model performs on new data. It provides us with an important aspect: if our model is overfitting or underfitting the training data. Without a well-made evaluation, we cannot say if our model is trustworthy on make correct predictions on new data.  Furthermore is really important to compare different models and chose the best one. "
   ]
  },
  {
   "cell_type": "markdown",
   "id": "3d625762",
   "metadata": {},
   "source": [
    "### Classification Report"
   ]
  },
  {
   "cell_type": "code",
   "execution_count": 44,
   "id": "501c7574",
   "metadata": {},
   "outputs": [
    {
     "name": "stdout",
     "output_type": "stream",
     "text": [
      "Test set\n",
      "              precision    recall  f1-score   support\n",
      "\n",
      "           0       0.85      0.77      0.81       524\n",
      "           1       0.77      0.85      0.81       476\n",
      "\n",
      "    accuracy                           0.81      1000\n",
      "   macro avg       0.81      0.81      0.81      1000\n",
      "weighted avg       0.82      0.81      0.81      1000\n",
      "\n"
     ]
    }
   ],
   "source": [
    "from sklearn.metrics import classification_report\n",
    "\n",
    "pred = classifier.predict(X_test_vectorized)\n",
    "report = classification_report(y_test, pred)\n",
    "print(\"Test set\")\n",
    "print(report)"
   ]
  },
  {
   "cell_type": "markdown",
   "id": "b5782d09",
   "metadata": {},
   "source": [
    "### Cross validation"
   ]
  },
  {
   "cell_type": "code",
   "execution_count": 45,
   "id": "f98dfef5",
   "metadata": {},
   "outputs": [
    {
     "name": "stdout",
     "output_type": "stream",
     "text": [
      "Accuracy scores for each fold: [0.79875 0.77375 0.7925  0.7925  0.80375]\n",
      "Average accuracy score: 0.79225\n"
     ]
    }
   ],
   "source": [
    "from sklearn.model_selection import cross_val_score\n",
    "# Performing 5-fold cross validation\n",
    "scores_fold = cross_val_score(classifier, X_train, y_train, cv=5)\n",
    "print('Accuracy scores for each fold:', scores_fold)\n",
    "\n",
    "# average accuracy score\n",
    "avg_score = sum(scores_fold)/len(scores_fold)\n",
    "print('Average accuracy score:', avg_score)"
   ]
  },
  {
   "cell_type": "markdown",
   "id": "5ec14e06",
   "metadata": {},
   "source": [
    "# Testing the model on the entire dataSet"
   ]
  },
  {
   "cell_type": "markdown",
   "id": "27560148",
   "metadata": {},
   "source": [
    "Take too much time to load"
   ]
  }
 ],
 "metadata": {
  "kernelspec": {
   "display_name": "Python 3 (ipykernel)",
   "language": "python",
   "name": "python3"
  },
  "language_info": {
   "codemirror_mode": {
    "name": "ipython",
    "version": 3
   },
   "file_extension": ".py",
   "mimetype": "text/x-python",
   "name": "python",
   "nbconvert_exporter": "python",
   "pygments_lexer": "ipython3",
   "version": "3.9.13"
  }
 },
 "nbformat": 4,
 "nbformat_minor": 5
}
